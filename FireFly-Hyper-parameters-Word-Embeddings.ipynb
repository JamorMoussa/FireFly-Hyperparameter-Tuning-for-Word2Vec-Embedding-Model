{
 "cells": [
  {
   "cell_type": "markdown",
   "id": "58713cf0-1f6d-446c-b05e-f8673021391c",
   "metadata": {},
   "source": [
    "## FireFly Algorithm for Hyper-Paramerter Tuning"
   ]
  },
  {
   "cell_type": "code",
   "execution_count": 26,
   "id": "7942e78e-a6ed-48cd-b342-7a651ab78242",
   "metadata": {
    "scrolled": true
   },
   "outputs": [],
   "source": [
    "import torch\n",
    "import torch.nn as nn\n",
    "import torch.optim as optim\n",
    "from torch.utils.data import Dataset, DataLoader\n",
    "\n",
    "import re\n",
    "import matplotlib.pyplot as plt\n",
    "\n",
    "import numpy as np\n",
    "import os\n",
    "import random\n",
    "\n",
    "from dataclasses import dataclass\n",
    "from typing import Union"
   ]
  },
  {
   "cell_type": "code",
   "execution_count": 80,
   "id": "b2179351-caad-410c-9d31-75567e7db9d6",
   "metadata": {},
   "outputs": [],
   "source": [
    "@dataclass\n",
    "class FireFlyConfig:\n",
    "\n",
    "    pop_size: int\n",
    "    alpha: float\n",
    "    beta0: float\n",
    "    gamma: float\n",
    "    max_iters: int\n",
    "    seed: int = None\n",
    "    \n",
    "    @staticmethod\n",
    "    def get_defaults():\n",
    "        return FireFlyConfig(pop_size=20, alpha=1.0, beta0=1.0, gamma=0.01, max_iters=100, seed=None)\n",
    "\n",
    "    def to_dict(self,):\n",
    "        return dict(pop_size=self.pop_size, alpha=self.alpha, beta0=self.beta0, gamma=self.gamma, max_iters=self.max_iters)"
   ]
  },
  {
   "cell_type": "code",
   "execution_count": 81,
   "id": "a19c23a3-b4c7-4f09-ab09-7deca295f328",
   "metadata": {},
   "outputs": [
    {
     "data": {
      "text/plain": [
       "array([1, 3, 5])"
      ]
     },
     "execution_count": 81,
     "metadata": {},
     "output_type": "execute_result"
    }
   ],
   "source": [
    "np.array(list(filter(lambda x : x%2, [1, 2, 3, 4, 5])))"
   ]
  },
  {
   "cell_type": "code",
   "execution_count": 175,
   "id": "461bf384-882e-4161-8b4c-507318129a1b",
   "metadata": {},
   "outputs": [],
   "source": [
    "@dataclass\n",
    "class FireFlyParameterBounder:\n",
    "    bounds: list[tuple[Union[float, int]]]\n",
    "\n",
    "    @staticmethod\n",
    "    def get_defaults(dim=3):\n",
    "        return FireFlyParameterBounder(bounds=[(-5, 5) for _ in range(dim)])\n",
    "\n",
    "    def clip(self, value: Union[float, int] , lb, ub):\n",
    "        if lb > value: return lb\n",
    "        elif value > ub:\n",
    "            return ub\n",
    "        return value\n",
    "\n",
    "    def apply(self, input: np.ndarray):\n",
    "        lb = np.array(tuple(map(lambda item: item[0], self.bounds)))\n",
    "        ub = np.array(tuple(map(lambda item: item[1], self.bounds)))\n",
    "\n",
    "        return np.vectorize(self.clip)(input, lb, ub)"
   ]
  },
  {
   "cell_type": "code",
   "execution_count": 176,
   "id": "88a8c7a8-2125-4c33-93c8-e65ae1f97e8f",
   "metadata": {},
   "outputs": [
    {
     "data": {
      "text/plain": [
       "FireFlyParameterBounder(bounds=[(-5, 5), (-5, 5), (-5, 5)])"
      ]
     },
     "execution_count": 176,
     "metadata": {},
     "output_type": "execute_result"
    }
   ],
   "source": [
    "FireFlyParameterBounder.get_defaults()"
   ]
  },
  {
   "cell_type": "code",
   "execution_count": 177,
   "id": "21dc74bc-52aa-466d-b39e-615df213451d",
   "metadata": {},
   "outputs": [
    {
     "data": {
      "text/plain": [
       "array([10,  3,  5])"
      ]
     },
     "execution_count": 177,
     "metadata": {},
     "output_type": "execute_result"
    }
   ],
   "source": [
    "FireFlyParameterBounder(bounds=[(10, 2), (3, 4), (5, 6)]).apply(np.array([-1, 2, 3]))"
   ]
  },
  {
   "cell_type": "code",
   "execution_count": 360,
   "id": "245d7fb6-3026-4a4b-9a75-beb98a0af1e7",
   "metadata": {},
   "outputs": [],
   "source": [
    "class FireFlyBase:\n",
    "\n",
    "    config: FireFlyConfig\n",
    "    bounder: FireFlyParameterBounder\n",
    "    \n",
    "    def __init__(\n",
    "        self,\n",
    "        config: FireFlyConfig  = FireFlyConfig.get_defaults(),\n",
    "        bounder: FireFlyParameterBounder = FireFlyParameterBounder.get_defaults()\n",
    "    ) -> None:\n",
    "        \n",
    "        assert isinstance(config, FireFlyConfig), \"the 'config' param must be an instance of 'FireFlyConfig'.\"\n",
    "        assert isinstance(bounder, FireFlyParameterBounder), \"the 'config' param must be an instance of 'FireFlyParameterBounder'.\"\n",
    "        self.config = config\n",
    "        self.bounder = bounder\n",
    "\n",
    "    def gen_fireflies(self, dim: int = 3):\n",
    "        return np.random.rand(self.config.pop_size, dim)\n",
    "\n",
    "    def get_intensity(self, func, fireflies: np.ndarray):\n",
    "        return np.apply_along_axis(func, 1, fireflies)\n",
    "\n",
    "    def get_distance(self, fi, fj):\n",
    "        return np.sum(np.square(fi - fj), axis=-1)\n",
    "\n",
    "    def compute_beta(self, r: float):\n",
    "        return self.config.beta0 * np.exp(-self.config.gamma * r)\n",
    "\n",
    "    def update_ffi(self, fi, fj, beta, steps):\n",
    "        return beta * (fj - fi) + steps"
   ]
  },
  {
   "cell_type": "code",
   "execution_count": 448,
   "id": "c60fcab7-66ae-4814-9be8-8f7052e4db43",
   "metadata": {},
   "outputs": [],
   "source": [
    "class FireFlyOptimizer(FireFlyBase):\n",
    "    \n",
    "    def __init__(\n",
    "        self,\n",
    "        config: FireFlyConfig  = FireFlyConfig.get_defaults(),\n",
    "        bounder: FireFlyParameterBounder = FireFlyParameterBounder.get_defaults()\n",
    "    ) -> None:\n",
    "        super(FireFlyOptimizer, self).__init__(config=config, bounder=bounder)\n",
    "    \n",
    "    def run(self, func, dim):\n",
    "        fireflies = self.gen_fireflies(dim=dim)\n",
    "        intensity = self.get_intensity(func=func, fireflies=fireflies)\n",
    "        \n",
    "        self.best_intensity = np.min(intensity)\n",
    "        self.best_pos = self.bounder.apply(fireflies[np.argmin(intensity)])\n",
    "        \n",
    "        iter = self.config.pop_size\n",
    "        new_alpha = self.config.alpha\n",
    "\n",
    "        diff = np.apply_along_axis(lambda item: item[1] - item[0],1, np.array([item for item in self.bounder.bounds]))\n",
    "        \n",
    "        for iter in range(self.config.max_iters):\n",
    "            new_alpha *= 0.97\n",
    "            \n",
    "            for i in range(self.config.pop_size):\n",
    "                \n",
    "                for j in range(self.config.pop_size):\n",
    "                \n",
    "                    if intensity[i] > intensity[j] and not np.isnan(intensity[j]): \n",
    "                    \n",
    "                        r = self.get_distance(fireflies[i], fireflies[j])\n",
    "                        beta = self.compute_beta(r=r)\n",
    "                        \n",
    "                        steps = new_alpha * (np.random.rand(dim) - 0.5) * diff\n",
    "                        \n",
    "                        fireflies[i] += self.update_ffi(fireflies[j], fireflies[i], beta=beta, steps=steps)\n",
    "                        fireflies[i] = self.bounder.apply(fireflies[i])\n",
    "                        intensity[i] = func(fireflies[i])\n",
    "                        \n",
    "                        if not np.isnan(intensity[i]) and intensity[i] < self.best_intensity: \n",
    "                            self.best_pos = self.bounder.apply(fireflies[i].copy())\n",
    "                            self.best_intensity = func(self.best_pos)"
   ]
  },
  {
   "cell_type": "code",
   "execution_count": null,
   "id": "1d0789fb-6e69-46c1-9b18-1f4ff7c37aca",
   "metadata": {},
   "outputs": [],
   "source": []
  },
  {
   "cell_type": "code",
   "execution_count": 450,
   "id": "e4b8e359-c4d0-4277-8afe-0a9bfbf9ca85",
   "metadata": {},
   "outputs": [],
   "source": [
    "bounder = FireFlyParameterBounder(bounds=[(-0.2, 0.2), (-1., 2.)])\n",
    "config = FireFlyConfig.get_defaults()\n",
    "config.max_iters = 1000"
   ]
  },
  {
   "cell_type": "code",
   "execution_count": 451,
   "id": "eba4804d-4a03-46b8-940a-b963189c0e3b",
   "metadata": {},
   "outputs": [],
   "source": [
    "FA = FireFlyOptimizer(config=config, bounder=bounder)"
   ]
  },
  {
   "cell_type": "code",
   "execution_count": 452,
   "id": "ebd47bd8-d3fc-40ac-8fca-bea7b2dda667",
   "metadata": {},
   "outputs": [],
   "source": [
    "def f(x):\n",
    "    return x[0]**2 + x[1]**2"
   ]
  },
  {
   "cell_type": "code",
   "execution_count": 453,
   "id": "15b913cf-1a68-4e94-b43c-84403cec3286",
   "metadata": {},
   "outputs": [],
   "source": [
    "FA.run(func=f, dim=2)"
   ]
  },
  {
   "cell_type": "code",
   "execution_count": 454,
   "id": "5064799b-592e-4075-8cde-b12de294f8b3",
   "metadata": {},
   "outputs": [
    {
     "data": {
      "text/plain": [
       "array([-0.0771614, -0.036571 ])"
      ]
     },
     "execution_count": 454,
     "metadata": {},
     "output_type": "execute_result"
    }
   ],
   "source": [
    "FA.best_pos"
   ]
  },
  {
   "cell_type": "code",
   "execution_count": 344,
   "id": "236242ae-fe0e-4f86-9c5a-9aa082cbe5fb",
   "metadata": {},
   "outputs": [
    {
     "data": {
      "text/plain": [
       "0.03685795899504816"
      ]
     },
     "execution_count": 344,
     "metadata": {},
     "output_type": "execute_result"
    }
   ],
   "source": [
    "FA.best_intensity"
   ]
  },
  {
   "cell_type": "code",
   "execution_count": 345,
   "id": "0991f6ef-1b18-4c28-9996-06f4a231bb4a",
   "metadata": {},
   "outputs": [],
   "source": [
    "sentences = [\n",
    "    \"The king is a man.\",\n",
    "    \"The queen is a woman.\",\n",
    "    \"The queen is the wife of the king.\",\n",
    "    \"A man can be a king.\",\n",
    "    \"A woman can be a queen.\",\n",
    "    \"A king is not a queen, and a queen is not a king.\"\n",
    "]"
   ]
  },
  {
   "cell_type": "code",
   "execution_count": 346,
   "id": "72b6c104-9a0f-4eb5-8a17-b9cd06ded511",
   "metadata": {},
   "outputs": [],
   "source": [
    "text = \" \".join(sentences).lower()"
   ]
  },
  {
   "cell_type": "code",
   "execution_count": 347,
   "id": "3f96009a-743e-43a7-9462-a214284e8b44",
   "metadata": {},
   "outputs": [],
   "source": [
    "vocab = {word: i for i, word in enumerate(set(text.split()))}\n",
    "vocab_size = len(vocab)"
   ]
  },
  {
   "cell_type": "code",
   "execution_count": 348,
   "id": "92469130-a4f7-4d7b-a54d-8a25dcc0087b",
   "metadata": {},
   "outputs": [
    {
     "data": {
      "text/plain": [
       "18"
      ]
     },
     "execution_count": 348,
     "metadata": {},
     "output_type": "execute_result"
    }
   ],
   "source": [
    "vocab_size"
   ]
  },
  {
   "cell_type": "code",
   "execution_count": 349,
   "id": "91696875-ea79-49b3-8892-287c22f27e51",
   "metadata": {},
   "outputs": [],
   "source": [
    "context = []\n",
    "target = []\n",
    "words = text.split()\n",
    "for i in range(1, len(words) - 1):\n",
    "    target.append(vocab[words[i]])\n",
    "    context.append([vocab[words[i-1]], vocab[words[i+1]]])    "
   ]
  },
  {
   "cell_type": "code",
   "execution_count": 350,
   "id": "d5008cac-ef71-447b-aeb4-2d3f6bdd21e9",
   "metadata": {},
   "outputs": [],
   "source": [
    "class TextDataSet(Dataset):\n",
    "\n",
    "    def __init__(self):\n",
    "\n",
    "        self.X: torch.Tensor = torch.tensor(context)\n",
    "        self.y: torch.Tensor = torch.tensor(target)\n",
    "\n",
    "    def __len__(self):\n",
    "        return len(self.X)\n",
    "\n",
    "    def __getitem__(self, index: int) -> tuple[torch.Tensor, torch.Tensor]:\n",
    "        return self.X[index], self.y[index]"
   ]
  },
  {
   "cell_type": "code",
   "execution_count": 351,
   "id": "e21457d3-fd85-40ab-af5e-f12ecbe2a525",
   "metadata": {},
   "outputs": [],
   "source": [
    "dataset = TextDataSet()"
   ]
  },
  {
   "cell_type": "code",
   "execution_count": 352,
   "id": "eccdddba-167f-4358-a630-60e44fea29f0",
   "metadata": {},
   "outputs": [],
   "source": [
    "dataLoader = DataLoader(dataset, batch_size=1, shuffle=True)"
   ]
  },
  {
   "cell_type": "code",
   "execution_count": 353,
   "id": "b300a98f-d410-4bd4-8fd4-f5e1746b860d",
   "metadata": {},
   "outputs": [],
   "source": [
    "class SumReshapeTransform(nn.Module):\n",
    "\n",
    "    def __init__(self,) -> None:\n",
    "        super(SumReshapeTransform, self).__init__()\n",
    "\n",
    "    def forward(self, input: torch.Tensor):\n",
    "        return input.sum(dim=1).reshape(1, -1)"
   ]
  },
  {
   "cell_type": "code",
   "execution_count": 354,
   "id": "4994e8a5-cec7-4da0-ad65-d36ff30d235a",
   "metadata": {},
   "outputs": [],
   "source": [
    "vocab_size = 18"
   ]
  },
  {
   "cell_type": "code",
   "execution_count": 557,
   "id": "0f4f1b0b-9570-46e4-a0d6-e2f98486107b",
   "metadata": {},
   "outputs": [],
   "source": [
    "def train(params):\n",
    "\n",
    "    lr = params[0]\n",
    "    \n",
    "    emb_size = int(params[1])\n",
    "\n",
    "    beta1 = params[2]\n",
    "    \n",
    "    beta2 = params[3]\n",
    "\n",
    "    model = nn.Sequential(\n",
    "        nn.Embedding(vocab_size, emb_size),\n",
    "        SumReshapeTransform(),\n",
    "        nn.Linear(emb_size, vocab_size),\n",
    "    )\n",
    "\n",
    "    criterion = nn.CrossEntropyLoss()\n",
    "    \n",
    "    opt = optim.Adam(model.parameters(), lr=lr, betas=(beta1, beta2))\n",
    "\n",
    "    total_loss = 0\n",
    "    \n",
    "    for context, target in dataLoader:\n",
    "    \n",
    "        opt.zero_grad()\n",
    "        \n",
    "        pred = model(context)\n",
    "    \n",
    "        target_vec = torch.zeros(1, vocab_size)\n",
    "    \n",
    "        target_vec[0][int(target)] = 1\n",
    "        \n",
    "        loss = criterion(pred, target_vec)\n",
    "    \n",
    "        loss.backward()\n",
    "            \n",
    "        opt.step()\n",
    "    \n",
    "        total_loss += loss.item()\n",
    "        \n",
    "    return total_loss"
   ]
  },
  {
   "cell_type": "code",
   "execution_count": 558,
   "id": "f9bf7597-d593-40d9-b7dd-1a3b64a12058",
   "metadata": {},
   "outputs": [],
   "source": [
    "bounder = FireFlyParameterBounder(bounds=[(0.0001, 0.1), (5, 20), (0.5, 0.999), (0.5, 0.999)])\n",
    "config = FireFlyConfig.get_defaults()\n",
    "config.max_iters = 5\n",
    "config.pop_size = 10"
   ]
  },
  {
   "cell_type": "code",
   "execution_count": 575,
   "id": "9690eeb4-8ab3-4665-9d0c-b435ea5a02c8",
   "metadata": {},
   "outputs": [],
   "source": [
    "FA = FireFlyOptimizer(config=config, bounder=bounder)"
   ]
  },
  {
   "cell_type": "code",
   "execution_count": 576,
   "id": "4a48e2da-0878-4d30-8cac-c401f562eb54",
   "metadata": {},
   "outputs": [],
   "source": [
    "res = []"
   ]
  },
  {
   "cell_type": "code",
   "execution_count": 577,
   "id": "7d19b71f-56b5-459e-8c8b-cad32a6185f2",
   "metadata": {},
   "outputs": [],
   "source": [
    "for _ in range(4):\n",
    "    FA.run(train, dim=4)\n",
    "    res.append(FA.best_pos)"
   ]
  },
  {
   "cell_type": "code",
   "execution_count": 562,
   "id": "5cf7ad13-4616-4156-aaf9-72fcc1e9a6d1",
   "metadata": {},
   "outputs": [
    {
     "data": {
      "text/plain": [
       "117.12036728858948"
      ]
     },
     "execution_count": 562,
     "metadata": {},
     "output_type": "execute_result"
    }
   ],
   "source": [
    "FA.best_intensity"
   ]
  },
  {
   "cell_type": "code",
   "execution_count": 563,
   "id": "e4ee5ad7-a3c0-46da-9136-37d7ea09b6b1",
   "metadata": {},
   "outputs": [
    {
     "data": {
      "text/plain": [
       "0.55"
      ]
     },
     "execution_count": 563,
     "metadata": {},
     "output_type": "execute_result"
    }
   ],
   "source": [
    "11/20"
   ]
  },
  {
   "cell_type": "code",
   "execution_count": 572,
   "id": "0cd66cc4-b9fb-4bc5-bce2-fd7c47e28006",
   "metadata": {},
   "outputs": [
    {
     "data": {
      "text/plain": [
       "129.4005731791258"
      ]
     },
     "execution_count": 572,
     "metadata": {},
     "output_type": "execute_result"
    }
   ],
   "source": [
    "train([0.09531705, 5.        , 0.5       , 0.5       ])"
   ]
  },
  {
   "cell_type": "code",
   "execution_count": 589,
   "id": "570b6f18-24a0-45d2-a23c-e293ed67aa5c",
   "metadata": {},
   "outputs": [
    {
     "data": {
      "text/plain": [
       "array([0.01187783, 9.71321233, 0.7961204 , 0.94126657])"
      ]
     },
     "execution_count": 589,
     "metadata": {},
     "output_type": "execute_result"
    }
   ],
   "source": [
    "np.array(res).mean(axis=0)"
   ]
  },
  {
   "cell_type": "code",
   "execution_count": 598,
   "id": "47b95dd4-f39c-4da8-80ac-825b6325467b",
   "metadata": {},
   "outputs": [
    {
     "data": {
      "text/plain": [
       "121.33819115161896"
      ]
     },
     "execution_count": 598,
     "metadata": {},
     "output_type": "execute_result"
    }
   ],
   "source": [
    "train([0.01187783, 9.71321233, 0.7961204 , 0.94126657])"
   ]
  },
  {
   "cell_type": "code",
   "execution_count": null,
   "id": "616a204c-2c60-46e3-a704-804e68630256",
   "metadata": {},
   "outputs": [],
   "source": []
  },
  {
   "cell_type": "code",
   "execution_count": null,
   "id": "88058665-786c-452b-909d-445d6a94eec6",
   "metadata": {},
   "outputs": [],
   "source": []
  },
  {
   "cell_type": "code",
   "execution_count": null,
   "id": "5c786f25-8fc2-4928-9418-ba62691e427e",
   "metadata": {},
   "outputs": [],
   "source": []
  },
  {
   "cell_type": "code",
   "execution_count": null,
   "id": "255c07b1-9e81-4634-93d4-93a2c3e0a266",
   "metadata": {},
   "outputs": [],
   "source": []
  }
 ],
 "metadata": {
  "kernelspec": {
   "display_name": "Python 3 (ipykernel)",
   "language": "python",
   "name": "python3"
  },
  "language_info": {
   "codemirror_mode": {
    "name": "ipython",
    "version": 3
   },
   "file_extension": ".py",
   "mimetype": "text/x-python",
   "name": "python",
   "nbconvert_exporter": "python",
   "pygments_lexer": "ipython3",
   "version": "3.11.6"
  }
 },
 "nbformat": 4,
 "nbformat_minor": 5
}
