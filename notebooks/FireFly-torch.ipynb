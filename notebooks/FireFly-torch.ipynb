{
 "cells": [
  {
   "cell_type": "code",
   "execution_count": 1,
   "id": "8fd5aa47-d3d9-4557-a80c-2d351e8bab27",
   "metadata": {},
   "outputs": [],
   "source": [
    "import torch\n",
    "import torch.nn as nn\n",
    "import math"
   ]
  },
  {
   "cell_type": "code",
   "execution_count": 28,
   "id": "2b2c5b3c-a4fd-46aa-8012-a9ef8fcb0516",
   "metadata": {},
   "outputs": [],
   "source": [
    "class FireflyAlgorithm:\n",
    "    def __init__(self, func, dim, n_fireflies=20, alpha=0.5, beta0=1.0, gamma=1.0, lb=-10, ub=10, max_iter=100):\n",
    "        self.func = func\n",
    "        self.dim = dim\n",
    "        self.n_fireflies = n_fireflies\n",
    "        self.alpha = alpha\n",
    "        self.beta0 = beta0\n",
    "        self.gamma = gamma\n",
    "        self.lb = lb\n",
    "        self.ub = ub\n",
    "        self.max_iter = max_iter\n",
    "        self.best_solution = None\n",
    "        self.best_fitness = float('inf')\n",
    "\n",
    "    def optimize(self):\n",
    "        # Initialize firefly positions\n",
    "        fireflies = self.lb + (self.ub - self.lb) * torch.rand((self.n_fireflies, self.dim))\n",
    "        intensities = torch.zeros(self.n_fireflies)\n",
    "\n",
    "        # Main optimization loop\n",
    "        for t in range(self.max_iter):\n",
    "            # Evaluate intensities\n",
    "            for i in range(self.n_fireflies):\n",
    "                intensities[i] = self.func(fireflies[i])\n",
    "\n",
    "            # Update best solution\n",
    "            min_idx = torch.argmin(intensities)\n",
    "            if intensities[min_idx] < self.best_fitness:\n",
    "                self.best_solution = fireflies[min_idx].clone()\n",
    "                self.best_fitness = intensities[min_idx]\n",
    "\n",
    "            # Update firefly positions\n",
    "            for i in range(self.n_fireflies):\n",
    "                for j in range(self.n_fireflies):\n",
    "                    if intensities[j] < intensities[i]:\n",
    "                        r = torch.norm(fireflies[i] - fireflies[j])\n",
    "                        beta = self.beta0 * math.exp(-self.gamma * r**2)\n",
    "                        fireflies[i] += beta * (fireflies[j] - fireflies[i]) + self.alpha * (torch.rand(self.dim) - 0.5)\n",
    "\n",
    "                        # Ensure new position is within bounds\n",
    "                        fireflies[i] = torch.clamp(fireflies[i], self.lb, self.ub)\n",
    "\n",
    "        return self.best_solution, self.best_fitness"
   ]
  },
  {
   "cell_type": "code",
   "execution_count": 29,
   "id": "4d8339c2-cc81-4d02-b363-5379ed29339b",
   "metadata": {},
   "outputs": [],
   "source": [
    "# Define a linear regression model\n",
    "model = nn.Sequential(\n",
    "    nn.Linear(3, 1),\n",
    ")"
   ]
  },
  {
   "cell_type": "code",
   "execution_count": 30,
   "id": "b82971c4-042c-45e1-967c-84c2b5ad299f",
   "metadata": {},
   "outputs": [],
   "source": [
    "# Define the mean squared error loss\n",
    "criterion = nn.MSELoss()"
   ]
  },
  {
   "cell_type": "code",
   "execution_count": 31,
   "id": "1f72fa81-13bb-4c5c-8898-2837302b75bb",
   "metadata": {},
   "outputs": [],
   "source": [
    "\n",
    "# Define the function to be optimized (MSE loss)\n",
    "def func(weights):\n",
    "    model[0].weight.data = torch.tensor(weights.clone().detach().reshape(1, -1))\n",
    "    outputs = model(inputs)\n",
    "    loss = criterion(outputs, targets)\n",
    "    return loss.item()"
   ]
  },
  {
   "cell_type": "code",
   "execution_count": 32,
   "id": "e7875e93-da52-4825-8267-ee809568b5c3",
   "metadata": {},
   "outputs": [],
   "source": [
    "# Generate some dummy data\n",
    "inputs = torch.randn(100, 3)\n",
    "targets = torch.mm(inputs, torch.Tensor([[1, 2, 3]]).t())"
   ]
  },
  {
   "cell_type": "code",
   "execution_count": 39,
   "id": "9ab4ccc8-3ec1-463d-b50e-3fcfc59a531b",
   "metadata": {},
   "outputs": [],
   "source": [
    "# Instantiate the FireflyAlgorithm optimizer\n",
    "fa = FireflyAlgorithm(func, dim=3, max_iter=1000)"
   ]
  },
  {
   "cell_type": "code",
   "execution_count": 40,
   "id": "ab87b628-42d4-49bc-85ec-caffea6daaf6",
   "metadata": {},
   "outputs": [
    {
     "name": "stderr",
     "output_type": "stream",
     "text": [
      "/tmp/ipykernel_38626/2641362432.py:3: UserWarning: To copy construct from a tensor, it is recommended to use sourceTensor.clone().detach() or sourceTensor.clone().detach().requires_grad_(True), rather than torch.tensor(sourceTensor).\n",
      "  model[0].weight.data = torch.tensor(weights.clone().detach().reshape(1, -1))\n"
     ]
    }
   ],
   "source": [
    "# Optimize the model\n",
    "best_solution, best_fitness = fa.optimize()"
   ]
  },
  {
   "cell_type": "code",
   "execution_count": 41,
   "id": "bedca970-60e7-474d-b1a2-1f441099bca1",
   "metadata": {},
   "outputs": [
    {
     "name": "stderr",
     "output_type": "stream",
     "text": [
      "/tmp/ipykernel_38626/115733666.py:2: UserWarning: To copy construct from a tensor, it is recommended to use sourceTensor.clone().detach() or sourceTensor.clone().detach().requires_grad_(True), rather than torch.tensor(sourceTensor).\n",
      "  model[0].weight.data = torch.tensor(best_solution.reshape(1, -1))\n"
     ]
    }
   ],
   "source": [
    "\n",
    "# Set the best solution as the weights of the linear regression model\n",
    "model[0].weight.data = torch.tensor(best_solution.reshape(1, -1))"
   ]
  },
  {
   "cell_type": "code",
   "execution_count": 42,
   "id": "e471f58c-9918-4449-bfb2-47bf3f63ec94",
   "metadata": {},
   "outputs": [
    {
     "data": {
      "text/plain": [
       "Sequential(\n",
       "  (0): Linear(in_features=3, out_features=1, bias=True)\n",
       ")"
      ]
     },
     "execution_count": 42,
     "metadata": {},
     "output_type": "execute_result"
    }
   ],
   "source": [
    "model"
   ]
  },
  {
   "cell_type": "code",
   "execution_count": 43,
   "id": "e5f209a3-708e-4f7b-b71b-cf7d542e2b5d",
   "metadata": {},
   "outputs": [
    {
     "data": {
      "text/plain": [
       "tensor([5.6015], grad_fn=<ViewBackward0>)"
      ]
     },
     "execution_count": 43,
     "metadata": {},
     "output_type": "execute_result"
    }
   ],
   "source": [
    "model(torch.Tensor([1, 1, 1]))"
   ]
  },
  {
   "cell_type": "code",
   "execution_count": 44,
   "id": "897b880f-8db7-4168-b910-477a4046f52b",
   "metadata": {},
   "outputs": [
    {
     "data": {
      "text/plain": [
       "tensor([[1.0773, 2.0265, 3.0097]])"
      ]
     },
     "execution_count": 44,
     "metadata": {},
     "output_type": "execute_result"
    }
   ],
   "source": [
    "model[0].weight.data"
   ]
  },
  {
   "cell_type": "code",
   "execution_count": null,
   "id": "2048b56f-b3cb-4fe2-b84a-85339cf35baf",
   "metadata": {},
   "outputs": [],
   "source": []
  }
 ],
 "metadata": {
  "kernelspec": {
   "display_name": "Python 3 (ipykernel)",
   "language": "python",
   "name": "python3"
  },
  "language_info": {
   "codemirror_mode": {
    "name": "ipython",
    "version": 3
   },
   "file_extension": ".py",
   "mimetype": "text/x-python",
   "name": "python",
   "nbconvert_exporter": "python",
   "pygments_lexer": "ipython3",
   "version": "3.11.6"
  }
 },
 "nbformat": 4,
 "nbformat_minor": 5
}
