{
 "cells": [
  {
   "cell_type": "code",
   "execution_count": 2,
   "id": "ddebc0e3-bc6b-4107-8a59-721a9351b980",
   "metadata": {},
   "outputs": [],
   "source": [
    "import numpy as np\n",
    "import matplotlib.pyplot as plt\n",
    "\n",
    "from typing import Callable, Any"
   ]
  },
  {
   "cell_type": "markdown",
   "id": "69e94a95-d87a-4e5c-8c01-15c99004f66d",
   "metadata": {},
   "source": [
    "### FireFly Partical"
   ]
  },
  {
   "cell_type": "code",
   "execution_count": 233,
   "id": "46aa0c6a-2b2c-4334-a955-bd6581fbaab5",
   "metadata": {},
   "outputs": [],
   "source": [
    "class FAParticle:\n",
    "\n",
    "    def __init__(self, id: int = 0, dim: tuple[int] = 2):\n",
    "        self.dim = dim\n",
    "        self.id = id\n",
    "        self._pos = np.random.rand(dim)\n",
    "\n",
    "    @property\n",
    "    def pos(self):\n",
    "        return self._pos\n",
    "\n",
    "    @pos.setter\n",
    "    def pos(self, pos: np.ndarray):\n",
    "        self._pos = pos        "
   ]
  },
  {
   "cell_type": "markdown",
   "id": "144e218d-6c69-49f2-a84e-4bca6a106c56",
   "metadata": {},
   "source": [
    "### FireFly Algorithm"
   ]
  },
  {
   "cell_type": "code",
   "execution_count": 266,
   "id": "1cea38eb-02ba-4975-bb5e-4d1d49d74682",
   "metadata": {},
   "outputs": [],
   "source": [
    "class FireFly:\n",
    "\n",
    "    def __init__(\n",
    "        self,\n",
    "        beta0: float = 1,\n",
    "        gamma: float = 0.01, \n",
    "        delta: float = 0.97, \n",
    "        pop_size: int = 10,\n",
    "        max_iters: int = 100,\n",
    "        dim: int = 2,\n",
    "        eps: float = 1e-3\n",
    "    ) -> None:\n",
    "\n",
    "        self.beta0 = beta0\n",
    "        self.gamma = gamma\n",
    "        self.delta = delta\n",
    "        self.pop_size = pop_size\n",
    "        self.max_iters = max_iters\n",
    "        self.dim: int = dim\n",
    "        self.eps = eps\n",
    "        self.func: Callable[[Any], Any] = None\n",
    "\n",
    "        self.alpha0 = np.random.rand(self.dim)\n",
    "        self.alpha = self.alpha0 * self.delta  # Initialize alpha once\n",
    "        \n",
    "        self.fireflies: List[FAParticle] = [FAParticle(id=i, dim=dim) for i in range(self.pop_size)]\n",
    "        self.intensity: np.ndarray = None\n",
    "\n",
    "    def run(self, func: Callable[[Any], Any]):\n",
    "        self.func = func\n",
    "\n",
    "        self.intensity = np.array([self.func(fa.pos) for fa in self.fireflies])\n",
    "        \n",
    "        arg_best = np.argmin(self.intensity)\n",
    "        best = self.intensity[arg_best]\n",
    "        \n",
    "        t = 0\n",
    "        while t <= self.max_iters:\n",
    "\n",
    "            self.alpha *= self.delta\n",
    "            \n",
    "            for i, fi in enumerate(self.fireflies):\n",
    "\n",
    "                for j, fj in enumerate(self.fireflies):\n",
    "\n",
    "                    if self.intensity[i] > self.intensity[j]:\n",
    "\n",
    "                        r = np.sum(np.square(self.fireflies[i].pos - self.fireflies[j].pos))\n",
    "\n",
    "                        beta = self.beta0 * np.exp(-self.gamma * r)\n",
    "\n",
    "                        self.fireflies[i].pos += beta * (self.fireflies[j].pos - self.fireflies[i].pos) + self.alpha\n",
    "                        \n",
    "                        self.intensity[i] = self.func(self.fireflies[i].pos)\n",
    "                        \n",
    "            arg_best = np.argmin(self.intensity)\n",
    "            best = self.intensity[arg_best]\n",
    "            \n",
    "            t += 1\n",
    "        \n",
    "        return arg_best, best, self.fireflies[arg_best].pos"
   ]
  },
  {
   "cell_type": "code",
   "execution_count": 267,
   "id": "7d06e37c-2e51-4dcf-bb89-c69e1acd9008",
   "metadata": {},
   "outputs": [],
   "source": [
    "def func(vec: np.ndarray):\n",
    "    x, y = vec\n",
    "    return (x + 2*y - 7)**2 + (2*x + y - 5)**2"
   ]
  },
  {
   "cell_type": "code",
   "execution_count": 268,
   "id": "8e3376fc-a4cd-4667-83ac-5589f1c5d705",
   "metadata": {},
   "outputs": [
    {
     "data": {
      "text/plain": [
       "0"
      ]
     },
     "execution_count": 268,
     "metadata": {},
     "output_type": "execute_result"
    }
   ],
   "source": [
    "func(np.array([1, 3]))"
   ]
  },
  {
   "cell_type": "code",
   "execution_count": 271,
   "id": "61f0bf79-2c86-4bca-b700-a5e574603d16",
   "metadata": {},
   "outputs": [],
   "source": [
    "firefly = FireFly(max_iters=1000, pop_size=50)"
   ]
  },
  {
   "cell_type": "code",
   "execution_count": 272,
   "id": "b613693c-db03-4e4d-b3c3-21c42096e9db",
   "metadata": {},
   "outputs": [
    {
     "data": {
      "text/plain": [
       "(31, 4.681467899337669, array([2.54409525, 1.48549141]))"
      ]
     },
     "execution_count": 272,
     "metadata": {},
     "output_type": "execute_result"
    }
   ],
   "source": [
    "firefly.run(func)"
   ]
  },
  {
   "cell_type": "code",
   "execution_count": null,
   "id": "dee2035d-8ded-4bd8-9141-0ce1397fa304",
   "metadata": {},
   "outputs": [],
   "source": []
  }
 ],
 "metadata": {
  "kernelspec": {
   "display_name": "Python 3 (ipykernel)",
   "language": "python",
   "name": "python3"
  },
  "language_info": {
   "codemirror_mode": {
    "name": "ipython",
    "version": 3
   },
   "file_extension": ".py",
   "mimetype": "text/x-python",
   "name": "python",
   "nbconvert_exporter": "python",
   "pygments_lexer": "ipython3",
   "version": "3.11.6"
  }
 },
 "nbformat": 4,
 "nbformat_minor": 5
}
