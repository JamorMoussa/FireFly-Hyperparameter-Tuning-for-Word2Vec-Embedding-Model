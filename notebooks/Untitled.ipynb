{
 "cells": [
  {
   "cell_type": "markdown",
   "id": "919f7193-6f3e-4640-ab1f-75f3fcda5ef0",
   "metadata": {},
   "source": [
    "## FireFly For Tuning HyperParameters"
   ]
  },
  {
   "cell_type": "code",
   "execution_count": 218,
   "id": "71f96a23-d6ad-44c0-af58-8c818c1c1dd2",
   "metadata": {},
   "outputs": [],
   "source": [
    "import torch, torch.nn as nn\n",
    "import torch.optim as optim\n",
    "from torch.utils.data import TensorDataset, DataLoader\n",
    "\n",
    "import numpy as np\n",
    "from dataclasses import dataclass\n",
    "import matplotlib.pyplot as plt\n",
    "import random\n",
    "import os"
   ]
  },
  {
   "cell_type": "code",
   "execution_count": 225,
   "id": "2ffd24fb-cdef-4fd2-939b-1cf20239e788",
   "metadata": {},
   "outputs": [],
   "source": [
    "torch.use_deterministic_algorithms(True)"
   ]
  },
  {
   "cell_type": "code",
   "execution_count": 350,
   "id": "5b9d429c-b3fd-47e8-b1ff-2feadc7b9538",
   "metadata": {},
   "outputs": [],
   "source": [
    "class FireflyAlgorithm:\n",
    "    def __init__(self, pop_size=20, alpha=1.0, betamin=1.0, gamma=0.01, seed=None):\n",
    "        self.pop_size = pop_size\n",
    "        self.alpha = alpha\n",
    "        self.betamin = betamin\n",
    "        self.gamma = gamma\n",
    "        self.rng = np.random.default_rng(seed)\n",
    "\n",
    "    def run(self, function, dim, lb=-5, ub=5, max_evals=100):\n",
    "        fireflies = self.rng.uniform(lb, ub, (self.pop_size, dim))\n",
    "        intensity = np.apply_along_axis(function, 1, fireflies)\n",
    "        self.best_intensity = np.min(intensity)\n",
    "        self.best_pos = fireflies[np.argmin(intensity)]\n",
    "\n",
    "        evaluations = self.pop_size\n",
    "        new_alpha = self.alpha\n",
    "        search_range = ub - lb\n",
    "\n",
    "        while evaluations <= max_evals:\n",
    "            new_alpha *= 0.97\n",
    "            for i in range(self.pop_size):\n",
    "                for j in range(self.pop_size):\n",
    "                    if intensity[i] >= intensity[j] and not np.isnan(intensity[j]):  # Check for np.nan\n",
    "                        r = np.sum(np.square(fireflies[i] - fireflies[j]), axis=-1)\n",
    "                        beta = self.betamin * np.exp(-self.gamma * r)\n",
    "                        steps = new_alpha * (self.rng.random(dim) - 0.5) * search_range\n",
    "                        fireflies[i] += beta * (fireflies[j] - fireflies[i]) + steps\n",
    "                        fireflies[i] = np.clip(fireflies[i], lb, ub)\n",
    "                        intensity[i] = function(fireflies[i])\n",
    "                        evaluations += 1\n",
    "                        if not np.isnan(intensity[i]) and intensity[i] < self.best_intensity:  # Check for np.nan\n",
    "                            self.best_intensity = intensity[i]\n",
    "                            self.best_pos = fireflies[i].copy()\n"
   ]
  },
  {
   "cell_type": "code",
   "execution_count": 351,
   "id": "5efaf7fb-5dae-46f9-8af3-c8e3a6df6c1a",
   "metadata": {},
   "outputs": [],
   "source": [
    "from sklearn.datasets import fetch_california_housing\n",
    "from sklearn.model_selection import train_test_split\n",
    "\n",
    "housing = fetch_california_housing()"
   ]
  },
  {
   "cell_type": "code",
   "execution_count": 352,
   "id": "dd568821-f646-40fc-97b4-a5ff77a7fc89",
   "metadata": {},
   "outputs": [],
   "source": [
    "data = housing\n",
    "X = torch.Tensor(data.data)\n",
    "y = torch.Tensor(data.target)\n",
    "X_train, X_test, y_train, y_test = train_test_split(X, y, test_size=0.2, random_state=42)"
   ]
  },
  {
   "cell_type": "markdown",
   "id": "4c22e3be-44c2-4c2a-aae4-6bea03ed06e2",
   "metadata": {},
   "source": [
    "## Build a simple Linear model:"
   ]
  },
  {
   "cell_type": "code",
   "execution_count": 353,
   "id": "18261d60-d0e8-4840-910c-c3e5742b244c",
   "metadata": {},
   "outputs": [],
   "source": [
    "train_set = TensorDataset(X_train, y_train.unsqueeze(0).t())\n",
    "test_set = TensorDataset(X_test, y_test.unsqueeze(0).t())"
   ]
  },
  {
   "cell_type": "code",
   "execution_count": 354,
   "id": "f983b169-abb9-487e-9b16-e1110169c5be",
   "metadata": {},
   "outputs": [],
   "source": [
    "train_loader = DataLoader(train_set, shuffle=True, batch_size=64)\n",
    "test_loader = DataLoader(test_set, shuffle=True, batch_size=64)"
   ]
  },
  {
   "cell_type": "code",
   "execution_count": 355,
   "id": "2a0b7cab-4047-4c01-9105-3b7d725b3bda",
   "metadata": {},
   "outputs": [],
   "source": [
    "def train(params):\n",
    "\n",
    "    lr = float(params[0]/20)\n",
    "    hidden = int(params[1])\n",
    "    \n",
    "    model = nn.Sequential(\n",
    "                nn.Linear(8, hidden),\n",
    "                nn.ReLU(True),\n",
    "                nn.Linear(hidden, 1)\n",
    "            )\n",
    "    \n",
    "    criterion = nn.MSELoss()\n",
    "    opt = optim.SGD(model.parameters(), lr=lr)\n",
    "\n",
    "    for epoch in range(1):\n",
    "\n",
    "        for x, y in train_loader:\n",
    "\n",
    "            opt.zero_grad()\n",
    "\n",
    "            y_pred = model(x)\n",
    "\n",
    "            loss = criterion(y_pred, y)\n",
    "\n",
    "            loss.backward()\n",
    "\n",
    "            opt.step()\n",
    "\n",
    "    mse = 0\n",
    "    \n",
    "    with torch.no_grad():    \n",
    "        for x, y in test_loader:\n",
    "            outputs = model(x)\n",
    "            mse += criterion(y, outputs)\n",
    "    \n",
    "    return (mse / len(test_loader)).item()"
   ]
  },
  {
   "cell_type": "code",
   "execution_count": 356,
   "id": "4c724844-c098-4ba4-8573-4c9fcac95a21",
   "metadata": {},
   "outputs": [],
   "source": [
    "FA = FireflyAlgorithm()"
   ]
  },
  {
   "cell_type": "code",
   "execution_count": 357,
   "id": "68986cf0-6e56-4e98-896a-92197949c39e",
   "metadata": {},
   "outputs": [
    {
     "name": "stderr",
     "output_type": "stream",
     "text": [
      "/home/moussa/.local/lib/python3.11/site-packages/torch/nn/init.py:412: UserWarning: Initializing zero-element tensors is a no-op\n",
      "  warnings.warn(\"Initializing zero-element tensors is a no-op\")\n"
     ]
    }
   ],
   "source": [
    "FA.run(function= train, dim= 2, lb= 0, ub= 10, max_evals= 10)"
   ]
  },
  {
   "cell_type": "code",
   "execution_count": 358,
   "id": "348a025e-eba2-40ec-a5ca-85c0cea481df",
   "metadata": {},
   "outputs": [
    {
     "data": {
      "text/plain": [
       "0.1331261585"
      ]
     },
     "execution_count": 358,
     "metadata": {},
     "output_type": "execute_result"
    }
   ],
   "source": [
    "2.66252317/20"
   ]
  },
  {
   "cell_type": "code",
   "execution_count": 359,
   "id": "5a1b1073-e0ef-4ef4-b4ef-bd1bcb1058d4",
   "metadata": {},
   "outputs": [
    {
     "data": {
      "text/plain": [
       "array([9.01801454, 7.53344272])"
      ]
     },
     "execution_count": 359,
     "metadata": {},
     "output_type": "execute_result"
    }
   ],
   "source": [
    "FA.best_pos"
   ]
  },
  {
   "cell_type": "code",
   "execution_count": 360,
   "id": "7d9c6fad-3f39-4dfe-b932-0f642d6293c6",
   "metadata": {},
   "outputs": [
    {
     "data": {
      "text/plain": [
       "nan"
      ]
     },
     "execution_count": 360,
     "metadata": {},
     "output_type": "execute_result"
    }
   ],
   "source": [
    "FA.best_intensity"
   ]
  },
  {
   "cell_type": "code",
   "execution_count": 361,
   "id": "5be2a881-8102-46c8-9616-677d8140ecab",
   "metadata": {},
   "outputs": [
    {
     "data": {
      "text/plain": [
       "array([9.01801454, 7.53344272])"
      ]
     },
     "execution_count": 361,
     "metadata": {},
     "output_type": "execute_result"
    }
   ],
   "source": [
    "FA.best_pos"
   ]
  },
  {
   "cell_type": "code",
   "execution_count": 362,
   "id": "7a02e388-18df-4cef-8105-2ff897868db9",
   "metadata": {},
   "outputs": [
    {
     "data": {
      "text/plain": [
       "0.4780521965"
      ]
     },
     "execution_count": 362,
     "metadata": {},
     "output_type": "execute_result"
    }
   ],
   "source": [
    "9.56104393/20"
   ]
  },
  {
   "cell_type": "code",
   "execution_count": 363,
   "id": "e2511f7e-578a-4039-80e1-ebd22c6349eb",
   "metadata": {},
   "outputs": [
    {
     "data": {
      "text/plain": [
       "1.3143388032913208"
      ]
     },
     "execution_count": 363,
     "metadata": {},
     "output_type": "execute_result"
    }
   ],
   "source": [
    "train([6.50232899, 9.04405793])"
   ]
  },
  {
   "cell_type": "code",
   "execution_count": null,
   "id": "b5987cd2-d31c-4cc8-8580-57dcc45b5ac0",
   "metadata": {},
   "outputs": [],
   "source": []
  }
 ],
 "metadata": {
  "kernelspec": {
   "display_name": "Python 3 (ipykernel)",
   "language": "python",
   "name": "python3"
  },
  "language_info": {
   "codemirror_mode": {
    "name": "ipython",
    "version": 3
   },
   "file_extension": ".py",
   "mimetype": "text/x-python",
   "name": "python",
   "nbconvert_exporter": "python",
   "pygments_lexer": "ipython3",
   "version": "3.11.6"
  }
 },
 "nbformat": 4,
 "nbformat_minor": 5
}
